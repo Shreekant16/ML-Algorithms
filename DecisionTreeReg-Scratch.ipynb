{
 "cells": [
  {
   "cell_type": "code",
   "execution_count": 1,
   "id": "e378af6f",
   "metadata": {},
   "outputs": [],
   "source": [
    "import pandas as pd\n",
    "import numpy as np"
   ]
  },
  {
   "cell_type": "code",
   "execution_count": 4,
   "id": "3bc7ed2b",
   "metadata": {},
   "outputs": [],
   "source": [
    "class Node:\n",
    "    def __init__(self,feature_index=None,threshold=None,left=None,right=None,var_red=None,value=None):\n",
    "        self.feature_index = feature_index\n",
    "        self.threshold = threshold\n",
    "        self.left= left\n",
    "        self.right = right\n",
    "        self.var_red = var_red\n",
    "        self.value = value"
   ]
  },
  {
   "cell_type": "code",
   "execution_count": 5,
   "id": "aeffc7ba",
   "metadata": {},
   "outputs": [],
   "source": [
    "class DecisionTreeRegression:\n",
    "    def __init__(self,min_sample_split=2,max_depth=2):\n",
    "        self.min_sample_split = min_sample_split\n",
    "        self.max_depth = max_depth\n",
    "        \n",
    "    def build_tree(self,dataset,curr_depth=0):\n",
    "        x,y = dataset[:,:-1].values, dataset[:,-1].values\n",
    "        num_samples = x.shape[0]\n",
    "        num_features = x.shape[1]\n",
    "        if num_samples > min_sample_split and curr_depth <= max_depth:\n",
    "            best_split = self.get_best_split(dataset,num_samples,num_features)\n",
    "            if best_split['var_red'] > 0:\n",
    "                left_subtree = self.build_tree(best_split['left_split'],curr_depth+1)\n",
    "                right_subtree = self.build_tree(best_split['right_split'],curr_depth+1)\n",
    "                \n",
    "                return Node(best_split['feature_idx'],best_split['threshold'],\n",
    "                           best_split['left_split'],best_split['right_split'],best_split['var_red'])\n",
    "        leaf_node = self.calulate_leaf_node(self,y)\n",
    "        return Node(vlaue=leaf_node)\n",
    "    \n",
    "    def variance_reduction(self,parent,l_child,r_child):\n",
    "        weight_l = len(l_child) / len(parent)\n",
    "        weight_r = len(r_child) / len(parent)\n",
    "        var_red = np.var(parent) - (weight_l*np.var(l_child) + weight_r*np.var(r_child))\n",
    "        return var_red\n",
    "    \n",
    "    def calculate_leaf_node(self,y):\n",
    "        ans = np.mean(y)\n",
    "        return ans\n",
    "    \n",
    "    def split(self,dataset,feature_idx,threshold):\n",
    "        left_split = [row for row in dataset if row[feature_idx]<=threshold]\n",
    "        right_split = [row for row in dataset if row[feature_idx]>threshold]\n",
    "        return left_split, right_split\n",
    "    \n",
    "    def get_best_split(self,dataset,num_samples,num_features):\n",
    "        best_split = {}\n",
    "        max_var_red = -float('inf')\n",
    "        for i in range(num_features):\n",
    "            feature = dataset[:,i]\n",
    "            possible_thresholds = np.unique(feature)\n",
    "            for th in possible_thresholds:\n",
    "                left_split,right_spit = split(dataset,i,th)\n",
    "                if len(left_split) >0  and len(right_split)>0:\n",
    "                    y = dataset[:,-1]\n",
    "                    y_left = left_split[:,-1]\n",
    "                    y_right = right_split[:, -1]\n",
    "                    curr_var_red = variance_reduction(y,y_left,y_right)\n",
    "                    if curr_var_red > max_var_red:\n",
    "                        best_split['feature_idx'] = i\n",
    "                        best_split['threshold'] = th\n",
    "                        best_split['left_split'] = left_split\n",
    "                        best_split['right_split'] = right_split\n",
    "                        best_split['var_red'] = curr_var_red\n",
    "                        max_var_red = curr_var_red\n",
    "        return best_split\n",
    "    \n",
    "    def fit(self,x,y):\n",
    "        dataset = np.concatenate((x,y),axis=1)\n",
    "        self.root = self.build_tree(dataset)\n",
    "    \n",
    "    def make_prediction(self,x,tree):\n",
    "        if tree.value != None:\n",
    "            return tree.values\n",
    "        feature_val = x[tree.feature_idx]\n",
    "        if feature_val <= threshold:\n",
    "            return make_prediction(self,x,tree.left)\n",
    "        else:\n",
    "            return make_prediction(self,x,tree.right)\n",
    "        \n",
    "    def predict(slef,X):\n",
    "        y_pred = [self.make_prediction(s,slef.root) for x in X]\n",
    "        return y_pred"
   ]
  },
  {
   "cell_type": "code",
   "execution_count": null,
   "id": "62884bfa",
   "metadata": {},
   "outputs": [],
   "source": []
  },
  {
   "cell_type": "code",
   "execution_count": null,
   "id": "98dcfa89",
   "metadata": {},
   "outputs": [],
   "source": []
  },
  {
   "cell_type": "code",
   "execution_count": null,
   "id": "ff957505",
   "metadata": {},
   "outputs": [],
   "source": []
  }
 ],
 "metadata": {
  "kernelspec": {
   "display_name": "Python 3 (ipykernel)",
   "language": "python",
   "name": "python3"
  },
  "language_info": {
   "codemirror_mode": {
    "name": "ipython",
    "version": 3
   },
   "file_extension": ".py",
   "mimetype": "text/x-python",
   "name": "python",
   "nbconvert_exporter": "python",
   "pygments_lexer": "ipython3",
   "version": "3.9.16"
  }
 },
 "nbformat": 4,
 "nbformat_minor": 5
}
