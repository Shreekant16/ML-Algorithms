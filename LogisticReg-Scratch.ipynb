{
 "cells": [
  {
   "cell_type": "code",
   "execution_count": 1,
   "id": "1721f08f",
   "metadata": {},
   "outputs": [],
   "source": [
    "import pandas as pd\n",
    "import numpy as np"
   ]
  },
  {
   "cell_type": "code",
   "execution_count": 2,
   "id": "ab9388b4",
   "metadata": {},
   "outputs": [],
   "source": [
    "def sigmoid(z):\n",
    "    a = 1/(1+np.exp(-z))\n",
    "    return a"
   ]
  },
  {
   "cell_type": "code",
   "execution_count": 3,
   "id": "f678ea80",
   "metadata": {},
   "outputs": [],
   "source": [
    "def initialize_weights(dim):\n",
    "    w = np.random.randn(dim,1)\n",
    "    b = 0\n",
    "    return w,b"
   ]
  },
  {
   "cell_type": "code",
   "execution_count": 5,
   "id": "d7ef5cdd",
   "metadata": {},
   "outputs": [],
   "source": [
    "def propogate(x,y):\n",
    "    z = np.dot(w.T,x) + b\n",
    "    a = sigmoid(z)\n",
    "    cost = -y*np.log(a)-(1-y)*np.log(1-a)\n",
    "    return z , a, cost"
   ]
  },
  {
   "cell_type": "code",
   "execution_count": 7,
   "id": "6b402164",
   "metadata": {},
   "outputs": [],
   "source": [
    "def optimize_cost(x,y,lr,iterations):\n",
    "    costs = []\n",
    "    for i in range(iterations):\n",
    "        z,a,cost = propogate(x,y)\n",
    "        dz = a - y\n",
    "        dw = np.dot(x,dz.T)\n",
    "        db = np.sum(dz)\n",
    "        w = w - lr*dw\n",
    "        b = b - lr*db\n",
    "        if i%100 == 0:\n",
    "            costs.append(cost)\n",
    "        params = {"w":w,"b":b},
    "    return params, costs"
   ]
  },
  {
   "cell_type": "code",
   "execution_count": 9,
   "id": "d33cd431",
   "metadata": {},
   "outputs": [],
   "source": [
    "def predict(x,y,w,b):\n",
    "    z = np.dot(w.T,x) + b\n",
    "    y_hat = sigmoid(z)\n",
    "    return y_hat"
   ]
  },
  {
   "cell_type": "code",
   "execution_count": 10,
   "id": "c6c4cb4a",
   "metadata": {},
   "outputs": [],
   "source": [
    "def model(x,y,lr,iterations):\n",
    "    w,b = initialize_weights(x.shape[0])\n",
    "    params,costs = optimize_cost(x,y,lr,iterations)\n",
    "    y_pred = predict(x,y,params['w'],params['b'])\n",
    "    return y_pred"
   ]
  },
  {
   "cell_type": "code",
   "execution_count": null,
   "id": "7b58a03c",
   "metadata": {},
   "outputs": [],
   "source": []
  },
  {
   "cell_type": "code",
   "execution_count": null,
   "id": "14d69271",
   "metadata": {},
   "outputs": [],
   "source": []
  }
 ],
 "metadata": {
  "kernelspec": {
   "display_name": "Python 3 (ipykernel)",
   "language": "python",
   "name": "python3"
  },
  "language_info": {
   "codemirror_mode": {
    "name": "ipython",
    "version": 3
   },
   "file_extension": ".py",
   "mimetype": "text/x-python",
   "name": "python",
   "nbconvert_exporter": "python",
   "pygments_lexer": "ipython3",
   "version": "3.9.16"
  }
 },
 "nbformat": 4,
 "nbformat_minor": 5
}
