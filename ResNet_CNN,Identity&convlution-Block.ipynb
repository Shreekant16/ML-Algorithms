{
 "cells": [
  {
   "cell_type": "code",
   "execution_count": 4,
   "id": "668d8aa6",
   "metadata": {},
   "outputs": [],
   "source": [
    "from tensorflow.keras.layers import Conv2D, BatchNormalization, Activation\n",
    "from tensorflow.keras.initializers import random_uniform, glorot_uniform"
   ]
  },
  {
   "cell_type": "code",
   "execution_count": 7,
   "id": "8eb7736d",
   "metadata": {},
   "outputs": [],
   "source": [
    "def identity_block(x,filters,f,training=True,initializer=random_uniform):\n",
    "    f1,f2,f3 = filters\n",
    "    x_shortcut = x\n",
    "    x = Conv2D(filters=f1,kernel_size=1,kernel_initializer=initializer(seed=0),stride=(1,1),padding='valid')(x)\n",
    "    x = BatchNormalization(axis=3)(x,training=training)\n",
    "    x = Activation('relu')(x)\n",
    "    \n",
    "    x = Conv2D(filters=f1,kernel_size=f,kernel_initializer=initializer(seed=0),stride=(1,1),padding='same')(x)\n",
    "    x = BatchNormalization(axis=3)(x,training=training)\n",
    "    x = Activation('relu')(x)\n",
    "    \n",
    "    x = Conv2D(filters=f1,kernel_size=1,kernel_initializer=initializer(seed=0),stride=(1,1),padding='valid')(x)\n",
    "    x = BatchNormalization(axis=3)(x,training=training)\n",
    "    \n",
    "    x = ADD()([x_shortcut,x])\n",
    "    \n",
    "    x = Activation('relu')(x)\n",
    "    \n",
    "    return x"
   ]
  },
  {
   "cell_type": "code",
   "execution_count": 9,
   "id": "45dc4549",
   "metadata": {},
   "outputs": [],
   "source": [
    "def convolution_block(filters,f,s,training=True,initializer=glorot_uniform):\n",
    "    f1,f2,f3 = filters\n",
    "    x_shortcut = x\n",
    "    x = Conv2D(filters=f1,kernel_size=1,kernel_initializer=initializer(seed=0),stride=(1,1),padding='valid')(x)\n",
    "    x = BatchNormalization(axis=3)(x,training=training)\n",
    "    x = Activation('relu')(x)\n",
    "    \n",
    "    x = Conv2D(filters=f1,kernel_size=f,kernel_initializer=initializer(seed=0),stride=(1,1),padding='same')(x)\n",
    "    x = BatchNormalization(axis=3)(x,training=training)\n",
    "    x = Activation('relu')(x)\n",
    "    \n",
    "    x = Conv2D(filters=f1,kernel_size=1,kernel_initializer=initializer(seed=0),stride=(1,1),padding='valid')(x)\n",
    "    x = BatchNormalization(axis=3)(x,training=training)\n",
    "    \n",
    "    x_shortcut = Conv2D(filters=f1,kernel_size=1,kernel_initializer=initializer(seed=0),stride=(s,s),padding='valid')(x_shortcut)\n",
    "    x_shortcut = BatchNormalization(axis=3)(x,training=training)\n",
    "    \n",
    "    x = ADD()([x_shortcut,x])\n",
    "    \n",
    "    x = Activation('relu')(x)\n",
    "    \n",
    "    return x"
   ]
  }
 ],
 "metadata": {
  "kernelspec": {
   "display_name": "Python 3 (ipykernel)",
   "language": "python",
   "name": "python3"
  },
  "language_info": {
   "codemirror_mode": {
    "name": "ipython",
    "version": 3
   },
   "file_extension": ".py",
   "mimetype": "text/x-python",
   "name": "python",
   "nbconvert_exporter": "python",
   "pygments_lexer": "ipython3",
   "version": "3.9.16"
  }
 },
 "nbformat": 4,
 "nbformat_minor": 5
}
