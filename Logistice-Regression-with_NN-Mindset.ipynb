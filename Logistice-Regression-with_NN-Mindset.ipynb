{
 "cells": [
  {
   "cell_type": "code",
   "execution_count": 113,
   "id": "4a17efbc",
   "metadata": {},
   "outputs": [],
   "source": [
    "import pandas as pd\n",
    "import numpy as np\n",
    "import matplotlib.pyplot as plt\n",
    "import h5py"
   ]
  },
  {
   "cell_type": "code",
   "execution_count": 114,
   "id": "e83e25f5",
   "metadata": {},
   "outputs": [],
   "source": [
    "def load_dataset():\n",
    "    train_dataset = h5py.File('train_catvnoncat.h5', \"r\")\n",
    "    train_set_x_orig = np.array(train_dataset[\"train_set_x\"][:]) # your train set features\n",
    "    train_set_y_orig = np.array(train_dataset[\"train_set_y\"][:]) # your train set labels\n",
    "\n",
    "    test_dataset = h5py.File('test_catvnoncat.h5', \"r\")\n",
    "    test_set_x_orig = np.array(test_dataset[\"test_set_x\"][:]) # your test set features\n",
    "    test_set_y_orig = np.array(test_dataset[\"test_set_y\"][:]) # your test set labels\n",
    "\n",
    "    classes = np.array(test_dataset[\"list_classes\"][:]) # the list of classes\n",
    "    \n",
    "    train_set_y_orig = train_set_y_orig.reshape((1, train_set_y_orig.shape[0]))\n",
    "    test_set_y_orig = test_set_y_orig.reshape((1, test_set_y_orig.shape[0]))\n",
    "    \n",
    "    return train_set_x_orig, train_set_y_orig, test_set_x_orig, test_set_y_orig, classes"
   ]
  },
  {
   "cell_type": "code",
   "execution_count": 115,
   "id": "4e1f0ce5",
   "metadata": {},
   "outputs": [],
   "source": [
    "train_set_x_orig, train_set_y, test_set_x_orig, test_set_y, classes = load_dataset()"
   ]
  },
  {
   "cell_type": "code",
   "execution_count": 116,
   "id": "ff2715a5",
   "metadata": {},
   "outputs": [
    {
     "name": "stdout",
     "output_type": "stream",
     "text": [
      "(209, 64, 64, 3)\n",
      "(50, 64, 64, 3)\n"
     ]
    }
   ],
   "source": [
    "print(train_set_x_orig.shape)\n",
    "print(test_set_x_orig.shape)"
   ]
  },
  {
   "cell_type": "code",
   "execution_count": 117,
   "id": "eaf601c5",
   "metadata": {},
   "outputs": [],
   "source": [
    "train_set_x_flatten = train_set_x_orig.reshape(64*64*3,209)\n",
    "test_set_x_flatten = test_set_x_orig.reshape(64*64*3,50)"
   ]
  },
  {
   "cell_type": "code",
   "execution_count": 118,
   "id": "ad1a7847",
   "metadata": {},
   "outputs": [
    {
     "name": "stdout",
     "output_type": "stream",
     "text": [
      "(12288, 209)\n",
      "(12288, 50)\n"
     ]
    }
   ],
   "source": [
    "print(train_set_x_flatten.shape)\n",
    "print(test_set_x_flatten.shape)"
   ]
  },
  {
   "cell_type": "markdown",
   "id": "96254da2",
   "metadata": {},
   "source": [
    "for a normal dataset we apply feature scailing like normalization or standardization but this is image dataset here we will\n",
    "divide each and every value of matrics by 255 because the values of 3 classes i.e, RGB are in range 0 to 255"
   ]
  },
  {
   "cell_type": "code",
   "execution_count": 119,
   "id": "385b1091",
   "metadata": {},
   "outputs": [],
   "source": [
    "train_set_x = train_set_x_flatten/255\n",
    "test_set_x = test_set_x_flatten/255"
   ]
  },
  {
   "cell_type": "code",
   "execution_count": 120,
   "id": "42e3c01e",
   "metadata": {},
   "outputs": [],
   "source": [
    "def sigmoid(z):\n",
    "    a = 1/(1+np.exp(-z))\n",
    "    return a"
   ]
  },
  {
   "cell_type": "code",
   "execution_count": 121,
   "id": "454b3935",
   "metadata": {},
   "outputs": [],
   "source": [
    "def initialize(dim):\n",
    "    w = np.zeros((dim,1))\n",
    "    b = 0\n",
    "    assert(w.shape == (dim,1))\n",
    "    assert(isinstance(b,float) or isinstance(b,int))\n",
    "    return w,b"
   ]
  },
  {
   "cell_type": "code",
   "execution_count": 122,
   "id": "72e9cf46",
   "metadata": {},
   "outputs": [],
   "source": [
    "def propogate(x,y,w,b):\n",
    "    m = x.shape[0]\n",
    "    A = sigmoid(np.dot(w.T,x)+b)\n",
    "    cost = np.sum((-y*np.log(A))+(-(1-y)*np.log(1-A)))/m\n",
    "    dz = A - y\n",
    "    dw = np.dot(x,dz.T)\n",
    "    db = np.sum(dz)\n",
    "    assert(dw.shape == w.shape)\n",
    "    assert(db.dtype == float)\n",
    "    cost = np.squeeze(cost)\n",
    "    assert(cost.shape == ())\n",
    "    \n",
    "    grads = {'dw':dw,'db':db}\n",
    "    return grads, cost"
   ]
  },
  {
   "cell_type": "code",
   "execution_count": 123,
   "id": "89d49cbd",
   "metadata": {},
   "outputs": [],
   "source": [
    "def optimize(x,y,alpha, iterations,w,b,print_cost=False):\n",
    "    costs=[]\n",
    "    for i in range(iterations):\n",
    "        grads, cost = propogate(x,y,w,b)\n",
    "        dw = grads['dw']\n",
    "        db = grads['db']\n",
    "\n",
    "        w = w - (alpha*dw)\n",
    "        b = b - (alpha*db)\n",
    "        if i % 100 == 0:\n",
    "            costs.append(cost)\n",
    "        \n",
    "        # Print the cost every 100 training iterations\n",
    "        if print_cost and i % 100 == 0:\n",
    "            print (\"Cost after iteration %i: %f\" %(i, cost))\n",
    "    \n",
    "\n",
    "        params = {'w':w,'b':b}\n",
    "        grads = {'dw':dw, 'db':db}\n",
    "    return params,grads,costs"
   ]
  },
  {
   "cell_type": "code",
   "execution_count": 124,
   "id": "2fb237cf",
   "metadata": {},
   "outputs": [],
   "source": [
    "def predict(x,y,w,b):\n",
    "    y_pred = np.zeros((1,x.shape[0]))\n",
    "    A = sigmoid(np.dot(w.T,x)+b)\n",
    "    \n",
    "    y_pred = (A>=0.5)*1\n",
    "    assert(y_pred.shape == (1, x.shape[1]))\n",
    "    return y_pred"
   ]
  },
  {
   "cell_type": "code",
   "execution_count": 127,
   "id": "13205040",
   "metadata": {},
   "outputs": [],
   "source": [
    "def model(x,y,alpha,iterations):\n",
    "    w,b = initialize(x.shape[0])\n",
    "    params,grads,cost = optimize(x,y,alpha, iterations,w,b)\n",
    "    w = params['w']\n",
    "    b = params['b']\n",
    "    y_pred = predict(x,y,w,b)\n",
    "    \n",
    "    print(100 - np.mean(np.abs(y_pred - y)) * 100)"
   ]
  },
  {
   "cell_type": "code",
   "execution_count": 129,
   "id": "44f00751",
   "metadata": {},
   "outputs": [
    {
     "name": "stderr",
     "output_type": "stream",
     "text": [
      "C:\\Users\\SUHAS\\AppData\\Local\\Temp\\ipykernel_1312\\2054185562.py:4: RuntimeWarning: divide by zero encountered in log\n",
      "  cost = np.sum((-y*np.log(A))+(-(1-y)*np.log(1-A)))/m\n",
      "C:\\Users\\SUHAS\\AppData\\Local\\Temp\\ipykernel_1312\\2054185562.py:4: RuntimeWarning: invalid value encountered in multiply\n",
      "  cost = np.sum((-y*np.log(A))+(-(1-y)*np.log(1-A)))/m\n"
     ]
    },
    {
     "name": "stdout",
     "output_type": "stream",
     "text": [
      "68.89952153110048\n"
     ]
    }
   ],
   "source": [
    "y_pred = model(train_set_x,train_set_y,0.005,2000)"
   ]
  },
  {
   "cell_type": "code",
   "execution_count": null,
   "id": "1aecda08",
   "metadata": {},
   "outputs": [],
   "source": []
  }
 ],
 "metadata": {
  "kernelspec": {
   "display_name": "Python 3 (ipykernel)",
   "language": "python",
   "name": "python3"
  },
  "language_info": {
   "codemirror_mode": {
    "name": "ipython",
    "version": 3
   },
   "file_extension": ".py",
   "mimetype": "text/x-python",
   "name": "python",
   "nbconvert_exporter": "python",
   "pygments_lexer": "ipython3",
   "version": "3.9.16"
  }
 },
 "nbformat": 4,
 "nbformat_minor": 5
}
