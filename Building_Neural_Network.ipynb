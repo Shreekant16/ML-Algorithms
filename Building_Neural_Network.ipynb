{
 "cells": [
  {
   "cell_type": "code",
   "execution_count": 29,
   "id": "c1e00832",
   "metadata": {},
   "outputs": [],
   "source": [
    "import pandas as pd\n",
    "import numpy as np"
   ]
  },
  {
   "cell_type": "code",
   "execution_count": 30,
   "id": "7fd39379",
   "metadata": {},
   "outputs": [],
   "source": [
    "def initialize(nx,nh,ny):\n",
    "    w1 = np.random.randn(nh,nx) *0.01\n",
    "    b1 = np.zeros((nh,1))\n",
    "    w2 = np.random.randn(ny,nh) * 0.01\n",
    "    b2 = np.zeros((ny,1))\n",
    "    \n",
    "    parameters = {\n",
    "        'w1':w1,\n",
    "        'w2':w2,\n",
    "        'b1':b1,\n",
    "        'b2':b2\n",
    "    }\n",
    "    \n",
    "    return parameters"
   ]
  },
  {
   "cell_type": "code",
   "execution_count": 33,
   "id": "377755fd",
   "metadata": {},
   "outputs": [],
   "source": [
    "def initialize_for_each_layer(layer_dim):\n",
    "    L = len(layer_dim)\n",
    "    parameters = {}\n",
    "    for i in range(1,L):\n",
    "        parameters['w'+str(i)] = np.random.randn(layer_dim[i],layer_dim[i-1])\n",
    "        parameters['b'+str(i)] = np.zeros((layer_dim[i],1))\n",
    "        \n",
    "    return parameters"
   ]
  },
  {
   "cell_type": "code",
   "execution_count": 34,
   "id": "863f6c14",
   "metadata": {},
   "outputs": [
    {
     "data": {
      "text/plain": [
       "{'w1': array([[ 0.28721243,  0.7735519 , -0.16993827, -0.67995767, -0.71914896],\n",
       "        [ 0.4441762 ,  0.42833011, -0.10983534,  1.02286868,  0.29372658],\n",
       "        [ 1.34811674, -1.1628415 ,  0.86419431, -0.38353443,  2.62784065],\n",
       "        [-0.06821729, -0.03670043, -0.47916802, -0.8733683 , -0.53979175]]),\n",
       " 'b1': array([[0.],\n",
       "        [0.],\n",
       "        [0.],\n",
       "        [0.]]),\n",
       " 'w2': array([[ 0.72140937,  1.69759668, -1.8415963 ,  0.43215769],\n",
       "        [-0.49371679,  0.06898096, -0.27339256, -0.27935795]]),\n",
       " 'b2': array([[0.],\n",
       "        [0.]])}"
      ]
     },
     "execution_count": 34,
     "metadata": {},
     "output_type": "execute_result"
    }
   ],
   "source": [
    "initialize_for_each_layer([5,4,2])"
   ]
  },
  {
   "cell_type": "code",
   "execution_count": 35,
   "id": "3566f96e",
   "metadata": {},
   "outputs": [],
   "source": [
    "def propogate(W,A,b):\n",
    "    Z = np.dot(W,A) + b\n",
    "    cache = (W,A,b)\n",
    "    return Z, cache"
   ]
  },
  {
   "cell_type": "code",
   "execution_count": 37,
   "id": "016f483f",
   "metadata": {},
   "outputs": [],
   "source": [
    "def propogate_activation(A_prev,W,b,activation):\n",
    "    if activation == 'sigmoid':\n",
    "        Z,lcache = propogate(W,A_prev,b)\n",
    "        A,ac_cache = sigmoid(Z)\n",
    "    elif activation == 'relu':\n",
    "        Z,lcache = propogate(W,A_prev,b)\n",
    "        A,ac_cache = sigmoid(Z)\n",
    "    cache = (lcache,ac_cache)\n",
    "    return A, cache"
   ]
  },
  {
   "cell_type": "code",
   "execution_count": null,
   "id": "c311b98c",
   "metadata": {},
   "outputs": [],
   "source": [
    "def L_model(X,parameters):\n",
    "    L = len(parameters) // 2\n",
    "    A = X\n",
    "    cache = []\n",
    "    for i in range(1,L):\n",
    "        A_prev = A\n",
    "        A,c = propogate_activation(A_prev,parameters['w'+str(i)],parameters['b'+str(i)],'relu')\n",
    "        cache.append(c)\n",
    "    AL,c = propogate_activation(A,parameters['w'+str(L)],parameters['b'+str(L)],'sigmoid')\n",
    "    cache.append(c)\n",
    "    return AL,cache"
   ]
  },
  {
   "cell_type": "code",
   "execution_count": 38,
   "id": "4de09b1d",
   "metadata": {},
   "outputs": [],
   "source": [
    "def compute_cost(AL, Y):\n",
    "    m = Y.shape[1]\n",
    "\n",
    "    # Compute loss from aL and y.\n",
    "    ### START CODE HERE ### (≈ 1 lines of code)\n",
    "    cost = (-1/m) * (np.dot(Y, np.log(AL).T) + np.dot((1-Y), np.log(1-AL).T))\n",
    "    ### END CODE HERE ###\n",
    "    \n",
    "    cost = np.squeeze(cost)      # To make sure your cost's shape is what we expect (e.g. this turns [[17]] into 17).\n",
    "    assert(cost.shape == ())\n",
    "    \n",
    "    return cost"
   ]
  },
  {
   "cell_type": "code",
   "execution_count": 39,
   "id": "c3e7f51d",
   "metadata": {},
   "outputs": [],
   "source": [
    "def linear_backward(dZ, cache):\n",
    "    A_prev, W, b = cache\n",
    "    m = A_prev.shape[1]\n",
    "\n",
    "    ### START CODE HERE ### (≈ 3 lines of code)\n",
    "    dW = (1/m) * np.dot(dZ, A_prev.T)\n",
    "    db = (1/m) * np.sum(dZ, axis=1, keepdims=True)\n",
    "    dA_prev = np.dot(W.T,dZ)\n",
    "    ### END CODE HERE ###\n",
    "    \n",
    "    assert (dA_prev.shape == A_prev.shape)\n",
    "    assert (dW.shape == W.shape)\n",
    "    assert (db.shape == b.shape)\n",
    "    \n",
    "    return dA_prev, dW, db"
   ]
  },
  {
   "cell_type": "code",
   "execution_count": 40,
   "id": "7c78d76c",
   "metadata": {},
   "outputs": [],
   "source": [
    "def linear_activation_backward(dA, cache, activation):\n",
    "    linear_cache, activation_cache = cache\n",
    "    \n",
    "    if activation == \"relu\":\n",
    "        ### START CODE HERE ### (≈ 1 line of code)\n",
    "        dZ = relu_backward(dA, activation_cache)\n",
    "        ### END CODE HERE ###\n",
    "        \n",
    "    elif activation == \"sigmoid\":\n",
    "        ### START CODE HERE ### (≈ 1 line of code)\n",
    "        dZ = sigmoid_backward(dA, activation_cache)\n",
    "        ### END CODE HERE ###\n",
    "    \n",
    "    ### START CODE HERE ### (≈ 1 line of code)\n",
    "    dA_prev, dW, db = linear_backward(dZ, linear_cache)\n",
    "    ### END CODE HERE ###\n",
    "    \n",
    "    return dA_prev, dW, db"
   ]
  },
  {
   "cell_type": "code",
   "execution_count": null,
   "id": "1cab1d99",
   "metadata": {},
   "outputs": [],
   "source": []
  }
 ],
 "metadata": {
  "kernelspec": {
   "display_name": "Python 3 (ipykernel)",
   "language": "python",
   "name": "python3"
  },
  "language_info": {
   "codemirror_mode": {
    "name": "ipython",
    "version": 3
   },
   "file_extension": ".py",
   "mimetype": "text/x-python",
   "name": "python",
   "nbconvert_exporter": "python",
   "pygments_lexer": "ipython3",
   "version": "3.9.16"
  }
 },
 "nbformat": 4,
 "nbformat_minor": 5
}
