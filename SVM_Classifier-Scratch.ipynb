{
 "cells": [
  {
   "cell_type": "code",
   "execution_count": 1,
   "id": "298c4e4c",
   "metadata": {},
   "outputs": [],
   "source": [
    "import numpy as np"
   ]
  },
  {
   "cell_type": "code",
   "execution_count": 4,
   "id": "7d8d2dc6",
   "metadata": {},
   "outputs": [],
   "source": [
    "def propogate(x,y):\n",
    "    w = np.zeros((x.shape[1],1))\n",
    "    b = 0\n",
    "    params = optimize(x,y,w,b)\n",
    "    return params"
   ]
  },
  {
   "cell_type": "code",
   "execution_count": 3,
   "id": "fc541238",
   "metadata": {},
   "outputs": [],
   "source": [
    "def optimize(x,y,w,b):\n",
    "    y_update = np.where(y<=0,-1,1)\n",
    "    for i in range(num_iterations):\n",
    "        constraint =(y_update * (np.dot(w.T,x) + b)) >= 1\n",
    "        if constraint == True:\n",
    "            dw = 2 * np.dot(lam,w)\n",
    "            db = 0\n",
    "\n",
    "        w = w - lr * dw\n",
    "        b = b - lr * db\n",
    "        params = {'w':w,'b':b}\n",
    "    return params"
   ]
  },
  {
   "cell_type": "code",
   "execution_count": null,
   "id": "a2afce33",
   "metadata": {},
   "outputs": [],
   "source": [
    "def predict(x,y):\n",
    "    params = propogate(x,y)\n",
    "    y_pred = np.dot(params['w'].T,x) + params['b']\n",
    "    y_pred_u = np.where(y_pred<=-1,1)\n",
    "    \n",
    "    return"
   ]
  }
 ],
 "metadata": {
  "kernelspec": {
   "display_name": "Python 3 (ipykernel)",
   "language": "python",
   "name": "python3"
  },
  "language_info": {
   "codemirror_mode": {
    "name": "ipython",
    "version": 3
   },
   "file_extension": ".py",
   "mimetype": "text/x-python",
   "name": "python",
   "nbconvert_exporter": "python",
   "pygments_lexer": "ipython3",
   "version": "3.9.16"
  }
 },
 "nbformat": 4,
 "nbformat_minor": 5
}
