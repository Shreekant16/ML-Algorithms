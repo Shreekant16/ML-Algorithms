{
 "cells": [
  {
   "cell_type": "code",
   "execution_count": 1,
   "id": "d2b0a6a1",
   "metadata": {},
   "outputs": [],
   "source": [
    "import numpy as np\n",
    "import matplotlib.pyplot as plt"
   ]
  },
  {
   "cell_type": "code",
   "execution_count": 5,
   "id": "54f8d9d8",
   "metadata": {},
   "outputs": [],
   "source": [
    "def padding(X,pad):\n",
    "    x_pad = np.pad(x,((0,0),(pad,pad),(pad,pad),(0,0)))\n",
    "    return x_pad"
   ]
  },
  {
   "cell_type": "code",
   "execution_count": 8,
   "id": "06711491",
   "metadata": {},
   "outputs": [
    {
     "data": {
      "text/plain": [
       "<matplotlib.image.AxesImage at 0x23a1b044700>"
      ]
     },
     "execution_count": 8,
     "metadata": {},
     "output_type": "execute_result"
    },
    {
     "data": {
      "image/png": "[encoded data removed]",
      "text/plain": [
       "<Figure size 640x480 with 2 Axes>"
      ]
     },
     "metadata": {},
     "output_type": "display_data"
    }
   ],
   "source": [
    "np.random.seed(1)\n",
    "x = np.random.randn(4,3,3,2)\n",
    "x_pad = padding(x,1)\n",
    "ret ,a = plt.subplots(1,2)\n",
    "a[0].set_title('x')\n",
    "a[0].imshow(x[0,:,:,0])\n",
    "a[1].set_title('x_pad')\n",
    "a[1].imshow(x_pad[0,:,:,0])"
   ]
  },
  {
   "cell_type": "code",
   "execution_count": 9,
   "id": "01e26852",
   "metadata": {},
   "outputs": [],
   "source": [
    "def conv_single_step(A_prev,W,b):\n",
    "    mul = np.multiply(A_prev,W)\n",
    "    Z = np.sum(mul)\n",
    "    b = np.squeeze(b)\n",
    "    Z = Z + b\n",
    "    \n",
    "    return Z"
   ]
  },
  {
   "cell_type": "code",
   "execution_count": 11,
   "id": "99d25584",
   "metadata": {},
   "outputs": [],
   "source": [
    "def conv_forward(A_previous,W,b,hyperparameters):\n",
    "    (m, nh_prev,nw_prev,nc_prev) = A_previous.shape\n",
    "    (f,f,nc_prev,nc) = W.shape\n",
    "    pad = hyperparameters['pad']\n",
    "    stride = hyperparameters['stride']\n",
    "    nh = ((nh_prev + 2*pad - f) / stride) + 1\n",
    "    nw = ((nw_prev + 2*pad - f) / stride) + 1\n",
    "    Z = np.zeros((m,nh,nw,nc))\n",
    "    A_previous_pad = padding(A_previous,pad)\n",
    "    for i in range(m):\n",
    "        a_previous_pad = A_previous_pad[i]\n",
    "        for h in range(nh):\n",
    "            vert_start = stride * h\n",
    "            vert_end = vert_start + f\n",
    "            for w in range(nw):\n",
    "                hori_start = stride * w\n",
    "                hori_end = hori_start + f\n",
    "                for c in range(nc):\n",
    "                    a_prev_slice = a_previous_pad[vert_start:vert_end,hori_start:hori_end,:]\n",
    "                    w = W[:,:,:,c]\n",
    "                    b = b[:,:,:,c]\n",
    "                    Z[i,h,w,c] = conv_single_step[a_prev_slice,w,b]\n",
    "                    \n",
    "    cache = (A_previous,w,b,hyperparameters)\n",
    "    return cache,Z"
   ]
  },
  {
   "cell_type": "code",
   "execution_count": 12,
   "id": "730da903",
   "metadata": {},
   "outputs": [],
   "source": [
    "def pool_forward(A_previous,hyperparameters,pool='max'):\n",
    "    f = hyperparameters['f']\n",
    "    stride = hyperparametrs['stride']\n",
    "    (m,nh_prev,nw_prev,nc_prev) = A_previous.shape\n",
    "    nh = ((nh_prev-f)/stride )+ 1\n",
    "    nw = ((nw_prev-f)/stride )+ 1\n",
    "    Z = np.zeros((m,nh,nw,nc_prev))\n",
    "    for i in range(m):\n",
    "        a_prev = A_previous[i]\n",
    "        for h in range(nh):\n",
    "            vert_start = stride * h\n",
    "            vert_end = vert_start + f\n",
    "            for w in range(nw):\n",
    "                hori_start = stride * w\n",
    "                hori_end = hori_start + f\n",
    "                for c in range(nc):\n",
    "                    a_prev_slice = a_prev[vert_start:vert_end,hori_start:hori_end,c]\n",
    "                    if pool == 'max':\n",
    "                        Z[i,h,w,c] = np.max(a_prev_slice)\n",
    "                    elif pool == 'avg':\n",
    "                        Z[i,h,w,c] = np.mean(a_prev_slice)\n",
    "                        \n",
    "    cache = (A_prev,hyperparameters)\n",
    "    return Z , cache"
   ]
  },
  {
   "cell_type": "code",
   "execution_count": null,
   "id": "7054f145",
   "metadata": {},
   "outputs": [],
   "source": []
  },
  {
   "cell_type": "code",
   "execution_count": null,
   "id": "2eb624fb",
   "metadata": {},
   "outputs": [],
   "source": []
  }
 ],
 "metadata": {
  "kernelspec": {
   "display_name": "Python 3 (ipykernel)",
   "language": "python",
   "name": "python3"
  },
  "language_info": {
   "codemirror_mode": {
    "name": "ipython",
    "version": 3
   },
   "file_extension": ".py",
   "mimetype": "text/x-python",
   "name": "python",
   "nbconvert_exporter": "python",
   "pygments_lexer": "ipython3",
   "version": "3.9.16"
  }
 },
 "nbformat": 4,
 "nbformat_minor": 5
}
