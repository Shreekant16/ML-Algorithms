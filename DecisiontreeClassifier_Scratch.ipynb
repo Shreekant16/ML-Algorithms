{
 "cells": [
  {
   "cell_type": "code",
   "execution_count": 1,
   "id": "57aa373c",
   "metadata": {},
   "outputs": [],
   "source": [
    "import pandas as pd\n",
    "import numpy as np"
   ]
  },
  {
   "cell_type": "code",
   "execution_count": 3,
   "id": "a3482e7f",
   "metadata": {},
   "outputs": [],
   "source": [
    "class Node:\n",
    "    def __init__(self,feature_idx=None,threshold=None,left_split=None,right_split=None,info_gain=None,value=None):\n",
    "        self.feature_idx = feature_idx\n",
    "        self.threshold = threshold\n",
    "        self.left_split=left_split\n",
    "        self.right_split = right_split\n",
    "        self.info_gain = ingo_gain\n",
    "        self.value = value"
   ]
  },
  {
   "cell_type": "code",
   "execution_count": null,
   "id": "6329a6c3",
   "metadata": {},
   "outputs": [],
   "source": [
    "class DTClass:\n",
    "    def __init__(self,min_sample_split=2,max_depth=2):\n",
    "        self.min_sample_split = min_sample_split\n",
    "        self.max_depth = max_depth\n",
    "    def build_tree(self,dataset,curr_depth=0):\n",
    "        num_samples = dataset.shape[0]\n",
    "        num_features = dataset.shape[1]\n",
    "        if num_samples > min_sample_split and curr_depth < max_depth:\n",
    "            best_split = self.get_best_split(dataset)\n",
    "            if best_split['info_gain'] > 0:\n",
    "                left_tree = self.build_tree(best_split['left_split'],curr_depth+1)\n",
    "                right_tree = self.build_tree(best_split['right_split'],curr_depth+1)\n",
    "                \n",
    "                return Node(best_split['feature_idx'],best_split['threshold'],best_split['left_split']\n",
    "                            ,best_split['right_split'],best_split['info_gain'])\n",
    "        leaf = cal_leaf(y)\n",
    "        return Node(value=leaf_)\n",
    "    def cal_leaf(self,y):\n",
    "        ans = np.mean(y)\n",
    "        return ans\n",
    "    def entropy(self,y):\n",
    "        p = 0\n",
    "        unique_classess = np.unique(y)\n",
    "        for clss in unique_classes:\n",
    "            p_clss = len(y[y==clss])/len(y)\n",
    "            p+= (-p_clss*np.log2(p_clss))\n",
    "        return p\n",
    "    def gini_impurity(self,y):\n",
    "        p = 0\n",
    "        unique_classess = np.unique(y)\n",
    "        for clss in unique_classes:\n",
    "            p_clss = len(y[y==clss])/len(y)\n",
    "            p += p_clss\n",
    "        return 1 - p\n",
    "    def split(self,dataset,feature_idx,threshold):\n",
    "        left_split = [row for row in dataset if row[feature_idx]<=threshold]\n",
    "        right_split = [row for row in dataset if row[feature_idx]>threshold]\n",
    "        return left_split, right_split\n",
    "    def info_gain(self,parent,left_,right_,mode='entropy'):\n",
    "        weight_l = len(left_)/len(parent)\n",
    "        weight_r = len(right_)/len(parent)\n",
    "        if mode == 'entropy':\n",
    "            ans = self.entropy(parent) - (weight_l*self.entropy(left_)+weight_r*self.entropy(right_))\n",
    "            return ans\n",
    "        else:\n",
    "            ans = self.gini_impurity(parent) - (weight_l*self.gini_impurity(left_)+weight_r*self.gini_impurity(right_))\n",
    "            return ans\n",
    "    def get_best_split(self,dataset):\n",
    "        num_samples = dataset.shape[0]\n",
    "        num_features = dataset.shape[1]\n",
    "        max_info_gain = -float('inf')\n",
    "        best_split = {}\n",
    "        for i in range(num_features):\n",
    "            feature = dataset[:,i]\n",
    "            possible_thresholds = np.unique(feature)\n",
    "            for th in possible_thresholds:\n",
    "                left_,right_ = self.split(dataset,i,th)\n",
    "                if len(left_) > 0 and len(right_):\n",
    "                    y = dataset[:,-1]\n",
    "                    left_y = left_[:,-1]\n",
    "                    right_y = right_[:,-1]\n",
    "                    info_gain = self.info_gain(y,left_y,right_y)\n",
    "                    if info_gain > max_info_gain:\n",
    "                        best_split['feature_idx'] = i\n",
    "                        best_split['threshold'] = th\n",
    "                        best_split['left_split'] = left_\n",
    "                        best_split['right_split'] = right_\n",
    "                        best_split['info_gain'] = info_gain\n",
    "                        max_info_gain = info_gain\n",
    "                        \n",
    "        return best_split"
   ]
  },
  {
   "cell_type": "code",
   "execution_count": null,
   "id": "8ba666b6",
   "metadata": {},
   "outputs": [],
   "source": []
  },
  {
   "cell_type": "code",
   "execution_count": null,
   "id": "4bb5d0d7",
   "metadata": {},
   "outputs": [],
   "source": []
  },
  {
   "cell_type": "code",
   "execution_count": null,
   "id": "b9f69ffc",
   "metadata": {},
   "outputs": [],
   "source": []
  }
 ],
 "metadata": {
  "kernelspec": {
   "display_name": "Python 3 (ipykernel)",
   "language": "python",
   "name": "python3"
  },
  "language_info": {
   "codemirror_mode": {
    "name": "ipython",
    "version": 3
   },
   "file_extension": ".py",
   "mimetype": "text/x-python",
   "name": "python",
   "nbconvert_exporter": "python",
   "pygments_lexer": "ipython3",
   "version": "3.9.16"
  }
 },
 "nbformat": 4,
 "nbformat_minor": 5
}
