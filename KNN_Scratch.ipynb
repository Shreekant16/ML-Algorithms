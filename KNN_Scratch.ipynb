{
 "cells": [
  {
   "cell_type": "code",
   "execution_count": 4,
   "id": "24c9adcc",
   "metadata": {},
   "outputs": [],
   "source": [
    "import pandas as pd\n",
    "import numpy as np\n",
    "import statistics"
   ]
  },
  {
   "cell_type": "code",
   "execution_count": 5,
   "id": "3da58ff9",
   "metadata": {},
   "outputs": [],
   "source": [
    "class KNN:\n",
    "    def __init__(self,dist):\n",
    "        self.dist = dist\n",
    "    def get_dist(self,train_data,test_data):\n",
    "        distance = 0\n",
    "        if self.dist == 'euclidean':\n",
    "            for i in range(len(train_data)-1):\n",
    "                distance += (train_data[i]-test_data[i])\n",
    "            return np.sqrt(distance)\n",
    "        elif self.dist == 'manhattan':\n",
    "            for i in range(len(train_data)-1):\n",
    "                distance += abs(train_data[i] - test_data[i])\n",
    "            return distance\n",
    "    def nearest_n(self,train_data,test_data,k):\n",
    "        dinfo = []\n",
    "        for data in train_data:\n",
    "            d = self.get_dist(data,test_data)\n",
    "            dinfo.append((data,d))\n",
    "        dinfo.sort(key=lambda x:x[1])\n",
    "        n = []\n",
    "        for i in range(k):\n",
    "            n.append(dinfo[i][0])\n",
    "        return n\n",
    "    def predict(self,train_data, test_data,k):\n",
    "        neighbors = self.nearest_n(train_data,test_data,k)\n",
    "        ans = []\n",
    "        for i in neighbors:\n",
    "            ans.append(i)\n",
    "        return statistics.mode(ans)"
   ]
  },
  {
   "cell_type": "code",
   "execution_count": null,
   "id": "24808403",
   "metadata": {},
   "outputs": [],
   "source": []
  },
  {
   "cell_type": "code",
   "execution_count": null,
   "id": "52801129",
   "metadata": {},
   "outputs": [],
   "source": []
  }
 ],
 "metadata": {
  "kernelspec": {
   "display_name": "Python 3 (ipykernel)",
   "language": "python",
   "name": "python3"
  },
  "language_info": {
   "codemirror_mode": {
    "name": "ipython",
    "version": 3
   },
   "file_extension": ".py",
   "mimetype": "text/x-python",
   "name": "python",
   "nbconvert_exporter": "python",
   "pygments_lexer": "ipython3",
   "version": "3.9.16"
  }
 },
 "nbformat": 4,
 "nbformat_minor": 5
}
