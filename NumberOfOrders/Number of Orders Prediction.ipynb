{
 "cells": [
  {
   "cell_type": "code",
   "execution_count": 31,
   "id": "5268874f",
   "metadata": {},
   "outputs": [],
   "source": [
    "import pandas as pd\n",
    "import numpy as np\n",
    "import matplotlib.pyplot as plt"
   ]
  },
  {
   "cell_type": "code",
   "execution_count": 32,
   "id": "9d6fc904",
   "metadata": {},
   "outputs": [],
   "source": [
    "dataset = pd.read_csv('https://raw.githubusercontent.com/amankharwal/Website-data/master/supplement.csv')"
   ]
  },
  {
   "cell_type": "code",
   "execution_count": 33,
   "id": "cf86fed0",
   "metadata": {},
   "outputs": [
    {
     "data": {
      "text/plain": [
       "(188340, 10)"
      ]
     },
     "execution_count": 33,
     "metadata": {},
     "output_type": "execute_result"
    }
   ],
   "source": [
    "dataset.shape"
   ]
  },
  {
   "cell_type": "code",
   "execution_count": 34,
   "id": "1e1f3e49",
   "metadata": {},
   "outputs": [
    {
     "data": {
      "text/html": [
       "<div>\n",
       "<style scoped>\n",
       "    .dataframe tbody tr th:only-of-type {\n",
       "        vertical-align: middle;\n",
       "    }\n",
       "\n",
       "    .dataframe tbody tr th {\n",
       "        vertical-align: top;\n",
       "    }\n",
       "\n",
       "    .dataframe thead th {\n",
       "        text-align: right;\n",
       "    }\n",
       "</style>\n",
       "<table border=\"1\" class=\"dataframe\">\n",
       "  <thead>\n",
       "    <tr style=\"text-align: right;\">\n",
       "      <th></th>\n",
       "      <th>ID</th>\n",
       "      <th>Store_id</th>\n",
       "      <th>Store_Type</th>\n",
       "      <th>Location_Type</th>\n",
       "      <th>Region_Code</th>\n",
       "      <th>Date</th>\n",
       "      <th>Holiday</th>\n",
       "      <th>Discount</th>\n",
       "      <th>#Order</th>\n",
       "      <th>Sales</th>\n",
       "    </tr>\n",
       "  </thead>\n",
       "  <tbody>\n",
       "    <tr>\n",
       "      <th>0</th>\n",
       "      <td>T1000001</td>\n",
       "      <td>1</td>\n",
       "      <td>S1</td>\n",
       "      <td>L3</td>\n",
       "      <td>R1</td>\n",
       "      <td>2018-01-01</td>\n",
       "      <td>1</td>\n",
       "      <td>Yes</td>\n",
       "      <td>9</td>\n",
       "      <td>7011.84</td>\n",
       "    </tr>\n",
       "    <tr>\n",
       "      <th>1</th>\n",
       "      <td>T1000002</td>\n",
       "      <td>253</td>\n",
       "      <td>S4</td>\n",
       "      <td>L2</td>\n",
       "      <td>R1</td>\n",
       "      <td>2018-01-01</td>\n",
       "      <td>1</td>\n",
       "      <td>Yes</td>\n",
       "      <td>60</td>\n",
       "      <td>51789.12</td>\n",
       "    </tr>\n",
       "    <tr>\n",
       "      <th>2</th>\n",
       "      <td>T1000003</td>\n",
       "      <td>252</td>\n",
       "      <td>S3</td>\n",
       "      <td>L2</td>\n",
       "      <td>R1</td>\n",
       "      <td>2018-01-01</td>\n",
       "      <td>1</td>\n",
       "      <td>Yes</td>\n",
       "      <td>42</td>\n",
       "      <td>36868.20</td>\n",
       "    </tr>\n",
       "    <tr>\n",
       "      <th>3</th>\n",
       "      <td>T1000004</td>\n",
       "      <td>251</td>\n",
       "      <td>S2</td>\n",
       "      <td>L3</td>\n",
       "      <td>R1</td>\n",
       "      <td>2018-01-01</td>\n",
       "      <td>1</td>\n",
       "      <td>Yes</td>\n",
       "      <td>23</td>\n",
       "      <td>19715.16</td>\n",
       "    </tr>\n",
       "    <tr>\n",
       "      <th>4</th>\n",
       "      <td>T1000005</td>\n",
       "      <td>250</td>\n",
       "      <td>S2</td>\n",
       "      <td>L3</td>\n",
       "      <td>R4</td>\n",
       "      <td>2018-01-01</td>\n",
       "      <td>1</td>\n",
       "      <td>Yes</td>\n",
       "      <td>62</td>\n",
       "      <td>45614.52</td>\n",
       "    </tr>\n",
       "  </tbody>\n",
       "</table>\n",
       "</div>"
      ],
      "text/plain": [
       "         ID  Store_id Store_Type Location_Type Region_Code        Date  \\\n",
       "0  T1000001         1         S1            L3          R1  2018-01-01   \n",
       "1  T1000002       253         S4            L2          R1  2018-01-01   \n",
       "2  T1000003       252         S3            L2          R1  2018-01-01   \n",
       "3  T1000004       251         S2            L3          R1  2018-01-01   \n",
       "4  T1000005       250         S2            L3          R4  2018-01-01   \n",
       "\n",
       "   Holiday Discount  #Order     Sales  \n",
       "0        1      Yes       9   7011.84  \n",
       "1        1      Yes      60  51789.12  \n",
       "2        1      Yes      42  36868.20  \n",
       "3        1      Yes      23  19715.16  \n",
       "4        1      Yes      62  45614.52  "
      ]
     },
     "execution_count": 34,
     "metadata": {},
     "output_type": "execute_result"
    }
   ],
   "source": [
    "dataset.head()"
   ]
  },
  {
   "cell_type": "code",
   "execution_count": 35,
   "id": "cfa38d59",
   "metadata": {},
   "outputs": [
    {
     "name": "stdout",
     "output_type": "stream",
     "text": [
      "<class 'pandas.core.frame.DataFrame'>\n",
      "RangeIndex: 188340 entries, 0 to 188339\n",
      "Data columns (total 10 columns):\n",
      " #   Column         Non-Null Count   Dtype  \n",
      "---  ------         --------------   -----  \n",
      " 0   ID             188340 non-null  object \n",
      " 1   Store_id       188340 non-null  int64  \n",
      " 2   Store_Type     188340 non-null  object \n",
      " 3   Location_Type  188340 non-null  object \n",
      " 4   Region_Code    188340 non-null  object \n",
      " 5   Date           188340 non-null  object \n",
      " 6   Holiday        188340 non-null  int64  \n",
      " 7   Discount       188340 non-null  object \n",
      " 8   #Order         188340 non-null  int64  \n",
      " 9   Sales          188340 non-null  float64\n",
      "dtypes: float64(1), int64(3), object(6)\n",
      "memory usage: 14.4+ MB\n"
     ]
    }
   ],
   "source": [
    "dataset.info()"
   ]
  },
  {
   "cell_type": "markdown",
   "id": "17ba3b9a",
   "metadata": {},
   "source": [
    "I think 'ID' and 'Date' column are not important for my problem because I've Store_id, Region_id and many more id's so I won't prefer column 'ID' over these mentioned columns and 'Date' Column also doesn't matter because we've column which says weather it was holiday or not on the shopping day.\n",
    "I've considered the store_id because there might be the case that there are 2 stores with same region_code and same location_type so in order to distinguish between then I've kept the 'store_id' column"
   ]
  },
  {
   "cell_type": "code",
   "execution_count": 36,
   "id": "9f2f07b5",
   "metadata": {},
   "outputs": [],
   "source": [
    "columns_to_be_dropped = {'ID','Date'}"
   ]
  },
  {
   "cell_type": "code",
   "execution_count": 37,
   "id": "699c5adb",
   "metadata": {},
   "outputs": [],
   "source": [
    "dataset = dataset.drop(columns_to_be_dropped, axis=1)"
   ]
  },
  {
   "cell_type": "code",
   "execution_count": 38,
   "id": "8cfa819a",
   "metadata": {},
   "outputs": [
    {
     "data": {
      "text/html": [
       "<div>\n",
       "<style scoped>\n",
       "    .dataframe tbody tr th:only-of-type {\n",
       "        vertical-align: middle;\n",
       "    }\n",
       "\n",
       "    .dataframe tbody tr th {\n",
       "        vertical-align: top;\n",
       "    }\n",
       "\n",
       "    .dataframe thead th {\n",
       "        text-align: right;\n",
       "    }\n",
       "</style>\n",
       "<table border=\"1\" class=\"dataframe\">\n",
       "  <thead>\n",
       "    <tr style=\"text-align: right;\">\n",
       "      <th></th>\n",
       "      <th>Store_id</th>\n",
       "      <th>Store_Type</th>\n",
       "      <th>Location_Type</th>\n",
       "      <th>Region_Code</th>\n",
       "      <th>Holiday</th>\n",
       "      <th>Discount</th>\n",
       "      <th>#Order</th>\n",
       "      <th>Sales</th>\n",
       "    </tr>\n",
       "  </thead>\n",
       "  <tbody>\n",
       "    <tr>\n",
       "      <th>0</th>\n",
       "      <td>1</td>\n",
       "      <td>S1</td>\n",
       "      <td>L3</td>\n",
       "      <td>R1</td>\n",
       "      <td>1</td>\n",
       "      <td>Yes</td>\n",
       "      <td>9</td>\n",
       "      <td>7011.84</td>\n",
       "    </tr>\n",
       "    <tr>\n",
       "      <th>1</th>\n",
       "      <td>253</td>\n",
       "      <td>S4</td>\n",
       "      <td>L2</td>\n",
       "      <td>R1</td>\n",
       "      <td>1</td>\n",
       "      <td>Yes</td>\n",
       "      <td>60</td>\n",
       "      <td>51789.12</td>\n",
       "    </tr>\n",
       "    <tr>\n",
       "      <th>2</th>\n",
       "      <td>252</td>\n",
       "      <td>S3</td>\n",
       "      <td>L2</td>\n",
       "      <td>R1</td>\n",
       "      <td>1</td>\n",
       "      <td>Yes</td>\n",
       "      <td>42</td>\n",
       "      <td>36868.20</td>\n",
       "    </tr>\n",
       "    <tr>\n",
       "      <th>3</th>\n",
       "      <td>251</td>\n",
       "      <td>S2</td>\n",
       "      <td>L3</td>\n",
       "      <td>R1</td>\n",
       "      <td>1</td>\n",
       "      <td>Yes</td>\n",
       "      <td>23</td>\n",
       "      <td>19715.16</td>\n",
       "    </tr>\n",
       "    <tr>\n",
       "      <th>4</th>\n",
       "      <td>250</td>\n",
       "      <td>S2</td>\n",
       "      <td>L3</td>\n",
       "      <td>R4</td>\n",
       "      <td>1</td>\n",
       "      <td>Yes</td>\n",
       "      <td>62</td>\n",
       "      <td>45614.52</td>\n",
       "    </tr>\n",
       "  </tbody>\n",
       "</table>\n",
       "</div>"
      ],
      "text/plain": [
       "   Store_id Store_Type Location_Type Region_Code  Holiday Discount  #Order  \\\n",
       "0         1         S1            L3          R1        1      Yes       9   \n",
       "1       253         S4            L2          R1        1      Yes      60   \n",
       "2       252         S3            L2          R1        1      Yes      42   \n",
       "3       251         S2            L3          R1        1      Yes      23   \n",
       "4       250         S2            L3          R4        1      Yes      62   \n",
       "\n",
       "      Sales  \n",
       "0   7011.84  \n",
       "1  51789.12  \n",
       "2  36868.20  \n",
       "3  19715.16  \n",
       "4  45614.52  "
      ]
     },
     "execution_count": 38,
     "metadata": {},
     "output_type": "execute_result"
    }
   ],
   "source": [
    "dataset.head()"
   ]
  },
  {
   "cell_type": "code",
   "execution_count": 39,
   "id": "13ff7f01",
   "metadata": {},
   "outputs": [],
   "source": [
    "x = dataset.drop('#Order', axis=1)\n",
    "y = dataset['#Order']"
   ]
  },
  {
   "cell_type": "code",
   "execution_count": 40,
   "id": "af446b88",
   "metadata": {},
   "outputs": [
    {
     "data": {
      "text/html": [
       "<div>\n",
       "<style scoped>\n",
       "    .dataframe tbody tr th:only-of-type {\n",
       "        vertical-align: middle;\n",
       "    }\n",
       "\n",
       "    .dataframe tbody tr th {\n",
       "        vertical-align: top;\n",
       "    }\n",
       "\n",
       "    .dataframe thead th {\n",
       "        text-align: right;\n",
       "    }\n",
       "</style>\n",
       "<table border=\"1\" class=\"dataframe\">\n",
       "  <thead>\n",
       "    <tr style=\"text-align: right;\">\n",
       "      <th></th>\n",
       "      <th>Store_id</th>\n",
       "      <th>Store_Type</th>\n",
       "      <th>Location_Type</th>\n",
       "      <th>Region_Code</th>\n",
       "      <th>Holiday</th>\n",
       "      <th>Discount</th>\n",
       "      <th>Sales</th>\n",
       "    </tr>\n",
       "  </thead>\n",
       "  <tbody>\n",
       "    <tr>\n",
       "      <th>0</th>\n",
       "      <td>1</td>\n",
       "      <td>S1</td>\n",
       "      <td>L3</td>\n",
       "      <td>R1</td>\n",
       "      <td>1</td>\n",
       "      <td>Yes</td>\n",
       "      <td>7011.84</td>\n",
       "    </tr>\n",
       "    <tr>\n",
       "      <th>1</th>\n",
       "      <td>253</td>\n",
       "      <td>S4</td>\n",
       "      <td>L2</td>\n",
       "      <td>R1</td>\n",
       "      <td>1</td>\n",
       "      <td>Yes</td>\n",
       "      <td>51789.12</td>\n",
       "    </tr>\n",
       "    <tr>\n",
       "      <th>2</th>\n",
       "      <td>252</td>\n",
       "      <td>S3</td>\n",
       "      <td>L2</td>\n",
       "      <td>R1</td>\n",
       "      <td>1</td>\n",
       "      <td>Yes</td>\n",
       "      <td>36868.20</td>\n",
       "    </tr>\n",
       "    <tr>\n",
       "      <th>3</th>\n",
       "      <td>251</td>\n",
       "      <td>S2</td>\n",
       "      <td>L3</td>\n",
       "      <td>R1</td>\n",
       "      <td>1</td>\n",
       "      <td>Yes</td>\n",
       "      <td>19715.16</td>\n",
       "    </tr>\n",
       "    <tr>\n",
       "      <th>4</th>\n",
       "      <td>250</td>\n",
       "      <td>S2</td>\n",
       "      <td>L3</td>\n",
       "      <td>R4</td>\n",
       "      <td>1</td>\n",
       "      <td>Yes</td>\n",
       "      <td>45614.52</td>\n",
       "    </tr>\n",
       "    <tr>\n",
       "      <th>...</th>\n",
       "      <td>...</td>\n",
       "      <td>...</td>\n",
       "      <td>...</td>\n",
       "      <td>...</td>\n",
       "      <td>...</td>\n",
       "      <td>...</td>\n",
       "      <td>...</td>\n",
       "    </tr>\n",
       "    <tr>\n",
       "      <th>188335</th>\n",
       "      <td>149</td>\n",
       "      <td>S2</td>\n",
       "      <td>L3</td>\n",
       "      <td>R2</td>\n",
       "      <td>1</td>\n",
       "      <td>Yes</td>\n",
       "      <td>37272.00</td>\n",
       "    </tr>\n",
       "    <tr>\n",
       "      <th>188336</th>\n",
       "      <td>153</td>\n",
       "      <td>S4</td>\n",
       "      <td>L2</td>\n",
       "      <td>R1</td>\n",
       "      <td>1</td>\n",
       "      <td>No</td>\n",
       "      <td>54572.64</td>\n",
       "    </tr>\n",
       "    <tr>\n",
       "      <th>188337</th>\n",
       "      <td>154</td>\n",
       "      <td>S1</td>\n",
       "      <td>L3</td>\n",
       "      <td>R2</td>\n",
       "      <td>1</td>\n",
       "      <td>No</td>\n",
       "      <td>31624.56</td>\n",
       "    </tr>\n",
       "    <tr>\n",
       "      <th>188338</th>\n",
       "      <td>155</td>\n",
       "      <td>S3</td>\n",
       "      <td>L1</td>\n",
       "      <td>R2</td>\n",
       "      <td>1</td>\n",
       "      <td>Yes</td>\n",
       "      <td>49162.41</td>\n",
       "    </tr>\n",
       "    <tr>\n",
       "      <th>188339</th>\n",
       "      <td>152</td>\n",
       "      <td>S2</td>\n",
       "      <td>L1</td>\n",
       "      <td>R1</td>\n",
       "      <td>1</td>\n",
       "      <td>No</td>\n",
       "      <td>37977.00</td>\n",
       "    </tr>\n",
       "  </tbody>\n",
       "</table>\n",
       "<p>188340 rows × 7 columns</p>\n",
       "</div>"
      ],
      "text/plain": [
       "        Store_id Store_Type Location_Type Region_Code  Holiday Discount  \\\n",
       "0              1         S1            L3          R1        1      Yes   \n",
       "1            253         S4            L2          R1        1      Yes   \n",
       "2            252         S3            L2          R1        1      Yes   \n",
       "3            251         S2            L3          R1        1      Yes   \n",
       "4            250         S2            L3          R4        1      Yes   \n",
       "...          ...        ...           ...         ...      ...      ...   \n",
       "188335       149         S2            L3          R2        1      Yes   \n",
       "188336       153         S4            L2          R1        1       No   \n",
       "188337       154         S1            L3          R2        1       No   \n",
       "188338       155         S3            L1          R2        1      Yes   \n",
       "188339       152         S2            L1          R1        1       No   \n",
       "\n",
       "           Sales  \n",
       "0        7011.84  \n",
       "1       51789.12  \n",
       "2       36868.20  \n",
       "3       19715.16  \n",
       "4       45614.52  \n",
       "...          ...  \n",
       "188335  37272.00  \n",
       "188336  54572.64  \n",
       "188337  31624.56  \n",
       "188338  49162.41  \n",
       "188339  37977.00  \n",
       "\n",
       "[188340 rows x 7 columns]"
      ]
     },
     "execution_count": 40,
     "metadata": {},
     "output_type": "execute_result"
    }
   ],
   "source": [
    "x"
   ]
  },
  {
   "cell_type": "code",
   "execution_count": 41,
   "id": "a22d58dc",
   "metadata": {},
   "outputs": [
    {
     "name": "stdout",
     "output_type": "stream",
     "text": [
      "Dataset have data of 365 Stores\n",
      "There are 4 distinct store_types\n",
      "There are 5 distinct Location_types of Stores\n",
      "There are 4 Regions in dataset\n"
     ]
    }
   ],
   "source": [
    "a = dataset['Store_id'].nunique()\n",
    "print(f\"Dataset have data of {a} Stores\")\n",
    "b = dataset['Store_Type'].nunique()\n",
    "print(f\"There are {b} distinct store_types\")\n",
    "c = dataset['Location_Type'].nunique()\n",
    "print(f\"There are {c} distinct Location_types of Stores\")\n",
    "d = dataset['Region_Code'].nunique()\n",
    "print(f\"There are {d} Regions in dataset\")"
   ]
  },
  {
   "cell_type": "code",
   "execution_count": 42,
   "id": "f9f47cf5",
   "metadata": {},
   "outputs": [],
   "source": [
    "from sklearn.preprocessing import LabelEncoder\n",
    "label_enc = LabelEncoder()\n",
    "x['Discount']=label_enc.fit_transform(x['Discount'])"
   ]
  },
  {
   "cell_type": "code",
   "execution_count": 43,
   "id": "84d29701",
   "metadata": {},
   "outputs": [
    {
     "data": {
      "text/html": [
       "<div>\n",
       "<style scoped>\n",
       "    .dataframe tbody tr th:only-of-type {\n",
       "        vertical-align: middle;\n",
       "    }\n",
       "\n",
       "    .dataframe tbody tr th {\n",
       "        vertical-align: top;\n",
       "    }\n",
       "\n",
       "    .dataframe thead th {\n",
       "        text-align: right;\n",
       "    }\n",
       "</style>\n",
       "<table border=\"1\" class=\"dataframe\">\n",
       "  <thead>\n",
       "    <tr style=\"text-align: right;\">\n",
       "      <th></th>\n",
       "      <th>Store_id</th>\n",
       "      <th>Store_Type</th>\n",
       "      <th>Location_Type</th>\n",
       "      <th>Region_Code</th>\n",
       "      <th>Holiday</th>\n",
       "      <th>Discount</th>\n",
       "      <th>Sales</th>\n",
       "    </tr>\n",
       "  </thead>\n",
       "  <tbody>\n",
       "    <tr>\n",
       "      <th>0</th>\n",
       "      <td>1</td>\n",
       "      <td>S1</td>\n",
       "      <td>L3</td>\n",
       "      <td>R1</td>\n",
       "      <td>1</td>\n",
       "      <td>1</td>\n",
       "      <td>7011.84</td>\n",
       "    </tr>\n",
       "    <tr>\n",
       "      <th>1</th>\n",
       "      <td>253</td>\n",
       "      <td>S4</td>\n",
       "      <td>L2</td>\n",
       "      <td>R1</td>\n",
       "      <td>1</td>\n",
       "      <td>1</td>\n",
       "      <td>51789.12</td>\n",
       "    </tr>\n",
       "    <tr>\n",
       "      <th>2</th>\n",
       "      <td>252</td>\n",
       "      <td>S3</td>\n",
       "      <td>L2</td>\n",
       "      <td>R1</td>\n",
       "      <td>1</td>\n",
       "      <td>1</td>\n",
       "      <td>36868.20</td>\n",
       "    </tr>\n",
       "    <tr>\n",
       "      <th>3</th>\n",
       "      <td>251</td>\n",
       "      <td>S2</td>\n",
       "      <td>L3</td>\n",
       "      <td>R1</td>\n",
       "      <td>1</td>\n",
       "      <td>1</td>\n",
       "      <td>19715.16</td>\n",
       "    </tr>\n",
       "    <tr>\n",
       "      <th>4</th>\n",
       "      <td>250</td>\n",
       "      <td>S2</td>\n",
       "      <td>L3</td>\n",
       "      <td>R4</td>\n",
       "      <td>1</td>\n",
       "      <td>1</td>\n",
       "      <td>45614.52</td>\n",
       "    </tr>\n",
       "    <tr>\n",
       "      <th>...</th>\n",
       "      <td>...</td>\n",
       "      <td>...</td>\n",
       "      <td>...</td>\n",
       "      <td>...</td>\n",
       "      <td>...</td>\n",
       "      <td>...</td>\n",
       "      <td>...</td>\n",
       "    </tr>\n",
       "    <tr>\n",
       "      <th>188335</th>\n",
       "      <td>149</td>\n",
       "      <td>S2</td>\n",
       "      <td>L3</td>\n",
       "      <td>R2</td>\n",
       "      <td>1</td>\n",
       "      <td>1</td>\n",
       "      <td>37272.00</td>\n",
       "    </tr>\n",
       "    <tr>\n",
       "      <th>188336</th>\n",
       "      <td>153</td>\n",
       "      <td>S4</td>\n",
       "      <td>L2</td>\n",
       "      <td>R1</td>\n",
       "      <td>1</td>\n",
       "      <td>0</td>\n",
       "      <td>54572.64</td>\n",
       "    </tr>\n",
       "    <tr>\n",
       "      <th>188337</th>\n",
       "      <td>154</td>\n",
       "      <td>S1</td>\n",
       "      <td>L3</td>\n",
       "      <td>R2</td>\n",
       "      <td>1</td>\n",
       "      <td>0</td>\n",
       "      <td>31624.56</td>\n",
       "    </tr>\n",
       "    <tr>\n",
       "      <th>188338</th>\n",
       "      <td>155</td>\n",
       "      <td>S3</td>\n",
       "      <td>L1</td>\n",
       "      <td>R2</td>\n",
       "      <td>1</td>\n",
       "      <td>1</td>\n",
       "      <td>49162.41</td>\n",
       "    </tr>\n",
       "    <tr>\n",
       "      <th>188339</th>\n",
       "      <td>152</td>\n",
       "      <td>S2</td>\n",
       "      <td>L1</td>\n",
       "      <td>R1</td>\n",
       "      <td>1</td>\n",
       "      <td>0</td>\n",
       "      <td>37977.00</td>\n",
       "    </tr>\n",
       "  </tbody>\n",
       "</table>\n",
       "<p>188340 rows × 7 columns</p>\n",
       "</div>"
      ],
      "text/plain": [
       "        Store_id Store_Type Location_Type Region_Code  Holiday  Discount  \\\n",
       "0              1         S1            L3          R1        1         1   \n",
       "1            253         S4            L2          R1        1         1   \n",
       "2            252         S3            L2          R1        1         1   \n",
       "3            251         S2            L3          R1        1         1   \n",
       "4            250         S2            L3          R4        1         1   \n",
       "...          ...        ...           ...         ...      ...       ...   \n",
       "188335       149         S2            L3          R2        1         1   \n",
       "188336       153         S4            L2          R1        1         0   \n",
       "188337       154         S1            L3          R2        1         0   \n",
       "188338       155         S3            L1          R2        1         1   \n",
       "188339       152         S2            L1          R1        1         0   \n",
       "\n",
       "           Sales  \n",
       "0        7011.84  \n",
       "1       51789.12  \n",
       "2       36868.20  \n",
       "3       19715.16  \n",
       "4       45614.52  \n",
       "...          ...  \n",
       "188335  37272.00  \n",
       "188336  54572.64  \n",
       "188337  31624.56  \n",
       "188338  49162.41  \n",
       "188339  37977.00  \n",
       "\n",
       "[188340 rows x 7 columns]"
      ]
     },
     "execution_count": 43,
     "metadata": {},
     "output_type": "execute_result"
    }
   ],
   "source": [
    "x"
   ]
  },
  {
   "cell_type": "markdown",
   "id": "d1a38d99",
   "metadata": {},
   "source": [
    "Now I've to encode Store_type, Location_type, Region_code In all these columns are not Ordinal as per my understanding so I'll perform nomial encoding and I wont perform OneHot or frequency encoding because OneHot will increase the dimensions and as frequency of each class in every column in more so calculation time will be increased So I'll simply perform normal mapping"
   ]
  },
  {
   "cell_type": "code",
   "execution_count": 44,
   "id": "74611c39",
   "metadata": {},
   "outputs": [
    {
     "data": {
      "text/plain": [
       "array(['S1', 'S4', 'S3', 'S2'], dtype=object)"
      ]
     },
     "execution_count": 44,
     "metadata": {},
     "output_type": "execute_result"
    }
   ],
   "source": [
    "dataset['Store_Type'].unique()"
   ]
  },
  {
   "cell_type": "code",
   "execution_count": 45,
   "id": "2ea07bf0",
   "metadata": {},
   "outputs": [],
   "source": [
    "mapping_store_type = {'S1':1,'S2':2,'S3':3,'S4':4}"
   ]
  },
  {
   "cell_type": "code",
   "execution_count": 46,
   "id": "7b44c16d",
   "metadata": {},
   "outputs": [
    {
     "data": {
      "text/plain": [
       "array(['L3', 'L2', 'L1', 'L5', 'L4'], dtype=object)"
      ]
     },
     "execution_count": 46,
     "metadata": {},
     "output_type": "execute_result"
    }
   ],
   "source": [
    "dataset['Location_Type'].unique()"
   ]
  },
  {
   "cell_type": "code",
   "execution_count": 47,
   "id": "94066ea9",
   "metadata": {},
   "outputs": [],
   "source": [
    "mapping_location_type = {'L1':1,'L2':2,'L3':3,'L4':4,'L5':5}"
   ]
  },
  {
   "cell_type": "code",
   "execution_count": 48,
   "id": "ce2770d4",
   "metadata": {},
   "outputs": [
    {
     "data": {
      "text/plain": [
       "array(['R1', 'R4', 'R2', 'R3'], dtype=object)"
      ]
     },
     "execution_count": 48,
     "metadata": {},
     "output_type": "execute_result"
    }
   ],
   "source": [
    "dataset['Region_Code'].unique()"
   ]
  },
  {
   "cell_type": "code",
   "execution_count": 49,
   "id": "70118b34",
   "metadata": {},
   "outputs": [],
   "source": [
    "mapping_region_code = {'R1':1,'R2':2,'R3':3,'R4':4}"
   ]
  },
  {
   "cell_type": "code",
   "execution_count": 50,
   "id": "c46b2f03",
   "metadata": {},
   "outputs": [],
   "source": [
    "x['Store_Type']=x['Store_Type'].map(mapping_store_type)\n",
    "x['Location_Type']=x['Location_Type'].map(mapping_location_type)\n",
    "x['Region_Code']=x['Region_Code'].map(mapping_region_code)"
   ]
  },
  {
   "cell_type": "code",
   "execution_count": 51,
   "id": "67269fff",
   "metadata": {},
   "outputs": [
    {
     "data": {
      "text/html": [
       "<div>\n",
       "<style scoped>\n",
       "    .dataframe tbody tr th:only-of-type {\n",
       "        vertical-align: middle;\n",
       "    }\n",
       "\n",
       "    .dataframe tbody tr th {\n",
       "        vertical-align: top;\n",
       "    }\n",
       "\n",
       "    .dataframe thead th {\n",
       "        text-align: right;\n",
       "    }\n",
       "</style>\n",
       "<table border=\"1\" class=\"dataframe\">\n",
       "  <thead>\n",
       "    <tr style=\"text-align: right;\">\n",
       "      <th></th>\n",
       "      <th>Store_id</th>\n",
       "      <th>Store_Type</th>\n",
       "      <th>Location_Type</th>\n",
       "      <th>Region_Code</th>\n",
       "      <th>Holiday</th>\n",
       "      <th>Discount</th>\n",
       "      <th>Sales</th>\n",
       "    </tr>\n",
       "  </thead>\n",
       "  <tbody>\n",
       "    <tr>\n",
       "      <th>0</th>\n",
       "      <td>1</td>\n",
       "      <td>1</td>\n",
       "      <td>3</td>\n",
       "      <td>1</td>\n",
       "      <td>1</td>\n",
       "      <td>1</td>\n",
       "      <td>7011.84</td>\n",
       "    </tr>\n",
       "    <tr>\n",
       "      <th>1</th>\n",
       "      <td>253</td>\n",
       "      <td>4</td>\n",
       "      <td>2</td>\n",
       "      <td>1</td>\n",
       "      <td>1</td>\n",
       "      <td>1</td>\n",
       "      <td>51789.12</td>\n",
       "    </tr>\n",
       "    <tr>\n",
       "      <th>2</th>\n",
       "      <td>252</td>\n",
       "      <td>3</td>\n",
       "      <td>2</td>\n",
       "      <td>1</td>\n",
       "      <td>1</td>\n",
       "      <td>1</td>\n",
       "      <td>36868.20</td>\n",
       "    </tr>\n",
       "    <tr>\n",
       "      <th>3</th>\n",
       "      <td>251</td>\n",
       "      <td>2</td>\n",
       "      <td>3</td>\n",
       "      <td>1</td>\n",
       "      <td>1</td>\n",
       "      <td>1</td>\n",
       "      <td>19715.16</td>\n",
       "    </tr>\n",
       "    <tr>\n",
       "      <th>4</th>\n",
       "      <td>250</td>\n",
       "      <td>2</td>\n",
       "      <td>3</td>\n",
       "      <td>4</td>\n",
       "      <td>1</td>\n",
       "      <td>1</td>\n",
       "      <td>45614.52</td>\n",
       "    </tr>\n",
       "    <tr>\n",
       "      <th>...</th>\n",
       "      <td>...</td>\n",
       "      <td>...</td>\n",
       "      <td>...</td>\n",
       "      <td>...</td>\n",
       "      <td>...</td>\n",
       "      <td>...</td>\n",
       "      <td>...</td>\n",
       "    </tr>\n",
       "    <tr>\n",
       "      <th>188335</th>\n",
       "      <td>149</td>\n",
       "      <td>2</td>\n",
       "      <td>3</td>\n",
       "      <td>2</td>\n",
       "      <td>1</td>\n",
       "      <td>1</td>\n",
       "      <td>37272.00</td>\n",
       "    </tr>\n",
       "    <tr>\n",
       "      <th>188336</th>\n",
       "      <td>153</td>\n",
       "      <td>4</td>\n",
       "      <td>2</td>\n",
       "      <td>1</td>\n",
       "      <td>1</td>\n",
       "      <td>0</td>\n",
       "      <td>54572.64</td>\n",
       "    </tr>\n",
       "    <tr>\n",
       "      <th>188337</th>\n",
       "      <td>154</td>\n",
       "      <td>1</td>\n",
       "      <td>3</td>\n",
       "      <td>2</td>\n",
       "      <td>1</td>\n",
       "      <td>0</td>\n",
       "      <td>31624.56</td>\n",
       "    </tr>\n",
       "    <tr>\n",
       "      <th>188338</th>\n",
       "      <td>155</td>\n",
       "      <td>3</td>\n",
       "      <td>1</td>\n",
       "      <td>2</td>\n",
       "      <td>1</td>\n",
       "      <td>1</td>\n",
       "      <td>49162.41</td>\n",
       "    </tr>\n",
       "    <tr>\n",
       "      <th>188339</th>\n",
       "      <td>152</td>\n",
       "      <td>2</td>\n",
       "      <td>1</td>\n",
       "      <td>1</td>\n",
       "      <td>1</td>\n",
       "      <td>0</td>\n",
       "      <td>37977.00</td>\n",
       "    </tr>\n",
       "  </tbody>\n",
       "</table>\n",
       "<p>188340 rows × 7 columns</p>\n",
       "</div>"
      ],
      "text/plain": [
       "        Store_id  Store_Type  Location_Type  Region_Code  Holiday  Discount  \\\n",
       "0              1           1              3            1        1         1   \n",
       "1            253           4              2            1        1         1   \n",
       "2            252           3              2            1        1         1   \n",
       "3            251           2              3            1        1         1   \n",
       "4            250           2              3            4        1         1   \n",
       "...          ...         ...            ...          ...      ...       ...   \n",
       "188335       149           2              3            2        1         1   \n",
       "188336       153           4              2            1        1         0   \n",
       "188337       154           1              3            2        1         0   \n",
       "188338       155           3              1            2        1         1   \n",
       "188339       152           2              1            1        1         0   \n",
       "\n",
       "           Sales  \n",
       "0        7011.84  \n",
       "1       51789.12  \n",
       "2       36868.20  \n",
       "3       19715.16  \n",
       "4       45614.52  \n",
       "...          ...  \n",
       "188335  37272.00  \n",
       "188336  54572.64  \n",
       "188337  31624.56  \n",
       "188338  49162.41  \n",
       "188339  37977.00  \n",
       "\n",
       "[188340 rows x 7 columns]"
      ]
     },
     "execution_count": 51,
     "metadata": {},
     "output_type": "execute_result"
    }
   ],
   "source": [
    "x"
   ]
  },
  {
   "cell_type": "code",
   "execution_count": 52,
   "id": "91754bcf",
   "metadata": {},
   "outputs": [
    {
     "data": {
      "text/plain": [
       "Store_id         0\n",
       "Store_Type       0\n",
       "Location_Type    0\n",
       "Region_Code      0\n",
       "Holiday          0\n",
       "Discount         0\n",
       "Sales            0\n",
       "dtype: int64"
      ]
     },
     "execution_count": 52,
     "metadata": {},
     "output_type": "execute_result"
    }
   ],
   "source": [
    "x.isnull().sum()"
   ]
  },
  {
   "cell_type": "markdown",
   "id": "9f740547",
   "metadata": {},
   "source": [
    "Lets check Outliers"
   ]
  },
  {
   "cell_type": "code",
   "execution_count": 53,
   "id": "2a8b3294",
   "metadata": {},
   "outputs": [
    {
     "data": {
      "text/plain": [
       "<AxesSubplot: >"
      ]
     },
     "execution_count": 53,
     "metadata": {},
     "output_type": "execute_result"
    },
    {
     "data": {
      "image/png": "[encoded data removed]",
      "text/plain": [
       "<Figure size 640x480 with 1 Axes>"
      ]
     },
     "metadata": {},
     "output_type": "display_data"
    }
   ],
   "source": [
    "import seaborn as sns\n",
    "sns.boxplot(dataset)"
   ]
  },
  {
   "cell_type": "markdown",
   "id": "1447e607",
   "metadata": {},
   "source": [
    "Also Add RandomForestRegressor in models list If you've a high specified cpu system in my software it is taking time so I've not added it"
   ]
  },
  {
   "cell_type": "code",
   "execution_count": 54,
   "id": "3a50d424",
   "metadata": {},
   "outputs": [],
   "source": [
    "from sklearn.linear_model import LinearRegression\n",
    "from sklearn.tree import DecisionTreeRegressor\n",
    "from sklearn.ensemble import RandomForestRegressor\n",
    "models = [LinearRegression(),DecisionTreeRegressor()]"
   ]
  },
  {
   "cell_type": "code",
   "execution_count": 55,
   "id": "050c5748",
   "metadata": {},
   "outputs": [
    {
     "name": "stdout",
     "output_type": "stream",
     "text": [
      "LinearRegression() has accuracy score 0.9131853668727171\n",
      "DecisionTreeRegressor() has accuracy score 0.9244336550898764\n"
     ]
    }
   ],
   "source": [
    "from sklearn.model_selection import cross_val_score\n",
    "for model in models:\n",
    "    cv_score = cross_val_score(model,x,y,cv=10)\n",
    "    cv_ = sum(cv_score)/10\n",
    "    print(f\"{model} has accuracy score {cv_}\")"
   ]
  },
  {
   "cell_type": "markdown",
   "id": "7e526bd6",
   "metadata": {},
   "source": [
    "I'll keep test size little bit bigger because dataset is to large "
   ]
  },
  {
   "cell_type": "code",
   "execution_count": 56,
   "id": "64f6a48c",
   "metadata": {},
   "outputs": [],
   "source": [
    "from sklearn.model_selection import train_test_split\n",
    "x_train, x_test, y_train, y_test = train_test_split(x,y,test_size=0.4)"
   ]
  },
  {
   "cell_type": "code",
   "execution_count": 57,
   "id": "a0ec5eac",
   "metadata": {},
   "outputs": [
    {
     "data": {
      "text/plain": [
       "DecisionTreeRegressor()"
      ]
     },
     "execution_count": 57,
     "metadata": {},
     "output_type": "execute_result"
    }
   ],
   "source": [
    "regressor = DecisionTreeRegressor()\n",
    "regressor.fit(x_train, y_train)"
   ]
  },
  {
   "cell_type": "code",
   "execution_count": 58,
   "id": "dc4b5f92",
   "metadata": {},
   "outputs": [],
   "source": [
    "y_pred = regressor.predict(x_test)"
   ]
  },
  {
   "cell_type": "code",
   "execution_count": 59,
   "id": "8f1d93eb",
   "metadata": {},
   "outputs": [
    {
     "data": {
      "text/plain": [
       "0.9278712409521829"
      ]
     },
     "execution_count": 59,
     "metadata": {},
     "output_type": "execute_result"
    }
   ],
   "source": [
    "from sklearn.metrics import r2_score\n",
    "r2_score(y_test, y_pred)"
   ]
  },
  {
   "cell_type": "code",
   "execution_count": null,
   "id": "346d35d3",
   "metadata": {},
   "outputs": [],
   "source": []
  },
  {
   "cell_type": "code",
   "execution_count": null,
   "id": "b29dbcf9",
   "metadata": {},
   "outputs": [],
   "source": []
  },
  {
   "cell_type": "code",
   "execution_count": null,
   "id": "ffaa74c3",
   "metadata": {},
   "outputs": [],
   "source": []
  },
  {
   "cell_type": "code",
   "execution_count": null,
   "id": "fe10e53f",
   "metadata": {},
   "outputs": [],
   "source": []
  }
 ],
 "metadata": {
  "kernelspec": {
   "display_name": "Python 3 (ipykernel)",
   "language": "python",
   "name": "python3"
  },
  "language_info": {
   "codemirror_mode": {
    "name": "ipython",
    "version": 3
   },
   "file_extension": ".py",
   "mimetype": "text/x-python",
   "name": "python",
   "nbconvert_exporter": "python",
   "pygments_lexer": "ipython3",
   "version": "3.9.16"
  }
 },
 "nbformat": 4,
 "nbformat_minor": 5
}
