{
 "cells": [
  {
   "cell_type": "markdown",
   "id": "3481e55b",
   "metadata": {},
   "source": [
    "ORDINARY LEAST SQUARE METHOD"
   ]
  },
  {
   "cell_type": "code",
   "execution_count": 71,
   "id": "57cdecb0",
   "metadata": {},
   "outputs": [],
   "source": [
    "import pandas as pd\n",
    "import numpy as np\n",
    "import matplotlib.pyplot as plt"
   ]
  },
  {
   "cell_type": "code",
   "execution_count": 72,
   "id": "e97791d6",
   "metadata": {},
   "outputs": [],
   "source": [
    "dataset = pd.read_csv('Salary_Data.csv')\n",
    "x = dataset.iloc[:,:-1].values\n",
    "y = dataset.iloc[:, -1].values"
   ]
  },
  {
   "cell_type": "code",
   "execution_count": 73,
   "id": "b73b5d48",
   "metadata": {},
   "outputs": [],
   "source": [
    "from sklearn.model_selection import train_test_split\n",
    "x_train, x_test, y_train, y_test = train_test_split(x,y,test_size=0.3)"
   ]
  },
  {
   "cell_type": "code",
   "execution_count": 74,
   "id": "e0ff3b0c",
   "metadata": {},
   "outputs": [
    {
     "name": "stdout",
     "output_type": "stream",
     "text": [
      "4.0\n",
      "56957.0\n"
     ]
    }
   ],
   "source": [
    "print(x_train[0][0])\n",
    "print(y_train[0])"
   ]
  },
  {
   "cell_type": "code",
   "execution_count": 75,
   "id": "09c31b6b",
   "metadata": {},
   "outputs": [
    {
     "data": {
      "text/plain": [
       "21"
      ]
     },
     "execution_count": 75,
     "metadata": {},
     "output_type": "execute_result"
    }
   ],
   "source": [
    "x_train.shape[0]"
   ]
  },
  {
   "cell_type": "code",
   "execution_count": 76,
   "id": "188fcb36",
   "metadata": {},
   "outputs": [],
   "source": [
    "def coefficient(x_train,y_train):\n",
    "    x_bar = x_train.mean()\n",
    "    y_bar = y_train.mean()\n",
    "    for i in range(0,x_train.shape[0]):\n",
    "        w = (x_train[i][0]-x_bar)*(y_train[i]-y_bar)/pow(x_train[i][0]-x_bar,2)\n",
    "    return w\n",
    "\n",
    "w = coefficient(x_train, y_train)"
   ]
  },
  {
   "cell_type": "code",
   "execution_count": 77,
   "id": "57a7ef20",
   "metadata": {},
   "outputs": [],
   "source": [
    "def intercept(w,x_train,y_train):\n",
    "    b = y_train.mean() - (w*x_train.mean())\n",
    "    return b\n",
    "b = intercept(w,x_train, y_train)"
   ]
  },
  {
   "cell_type": "code",
   "execution_count": 78,
   "id": "eb240cd5",
   "metadata": {},
   "outputs": [],
   "source": [
    "import math\n",
    "def predict(x_train, y_train,w,b):\n",
    "    y_pred = []\n",
    "    for i in x_train:\n",
    "        y_p = w*i + b\n",
    "        y_pred.append(math.trunc(y_p[0]))\n",
    "    return y_pred\n",
    "y_pred = predict(x_train,y_train,w,b)"
   ]
  },
  {
   "cell_type": "code",
   "execution_count": 79,
   "id": "e2f0b355",
   "metadata": {},
   "outputs": [
    {
     "name": "stdout",
     "output_type": "stream",
     "text": [
      "[65696, 69887, 44741, 74916, 91680, 66534, 111796, 89165, 107605, 82459, 120178, 73239, 105091, 118502, 56475, 100900, 76592, 41388, 98385, 63181, 112635]\n"
     ]
    }
   ],
   "source": [
    "print(y_pred)"
   ]
  },
  {
   "cell_type": "code",
   "execution_count": 86,
   "id": "76803af8",
   "metadata": {},
   "outputs": [],
   "source": [
    "from sklearn.metrics import r2_score\n",
    "def Linear_Model(x,y):\n",
    "    w = coefficient(x,y)\n",
    "    b = intercept(w,x,y)\n",
    "    y_pred = predict(x,y,w,b)\n",
    "    return r2_score(y_pred,y),w,b"
   ]
  },
  {
   "cell_type": "code",
   "execution_count": 88,
   "id": "e1fcbb51",
   "metadata": {},
   "outputs": [
    {
     "name": "stdout",
     "output_type": "stream",
     "text": [
      "0.9439406156680744\n",
      "8843.637532133676 29013.8059125964\n"
     ]
    }
   ],
   "source": [
    "result,w,b = Linear_Model(x,y)\n",
    "print(result)\n",
    "print(w,b)"
   ]
  },
  {
   "cell_type": "markdown",
   "id": "1088ef47",
   "metadata": {},
   "source": [
    "CROSS CHECK"
   ]
  },
  {
   "cell_type": "code",
   "execution_count": 92,
   "id": "6c34a93d",
   "metadata": {},
   "outputs": [
    {
     "data": {
      "text/plain": [
       "LinearRegression()"
      ]
     },
     "execution_count": 92,
     "metadata": {},
     "output_type": "execute_result"
    }
   ],
   "source": [
    "from sklearn.linear_model import LinearRegression\n",
    "regressor = LinearRegression()\n",
    "regressor.fit(x,y)"
   ]
  },
  {
   "cell_type": "code",
   "execution_count": 104,
   "id": "d637cd85",
   "metadata": {},
   "outputs": [
    {
     "name": "stdout",
     "output_type": "stream",
     "text": [
      "9449 8843\n"
     ]
    }
   ],
   "source": [
    "import math\n",
    "print(math.trunc(regressor.coef_[0]),math.trunc(w))"
   ]
  },
  {
   "cell_type": "code",
   "execution_count": 102,
   "id": "e62862e2",
   "metadata": {},
   "outputs": [
    {
     "data": {
      "text/plain": [
       "25792.20019866871"
      ]
     },
     "execution_count": 102,
     "metadata": {},
     "output_type": "execute_result"
    }
   ],
   "source": [
    "print(math.trunc(regressor.intercept_),matb)"
   ]
  }
 ],
 "metadata": {
  "kernelspec": {
   "display_name": "Python 3 (ipykernel)",
   "language": "python",
   "name": "python3"
  },
  "language_info": {
   "codemirror_mode": {
    "name": "ipython",
    "version": 3
   },
   "file_extension": ".py",
   "mimetype": "text/x-python",
   "name": "python",
   "nbconvert_exporter": "python",
   "pygments_lexer": "ipython3",
   "version": "3.9.16"
  }
 },
 "nbformat": 4,
 "nbformat_minor": 5
}
