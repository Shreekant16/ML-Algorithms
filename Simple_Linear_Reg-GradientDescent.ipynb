{
 "cells": [
  {
   "cell_type": "code",
   "execution_count": 14,
   "id": "59791ea4",
   "metadata": {},
   "outputs": [],
   "source": [
    "import pandas as pd\n",
    "import numpy as np"
   ]
  },
  {
   "cell_type": "code",
   "execution_count": 15,
   "id": "e8caf432",
   "metadata": {},
   "outputs": [],
   "source": [
    "dataset = pd.read_csv('Salary_Data.csv')\n",
    "x = dataset.iloc[:,:-1].values\n",
    "y = dataset.iloc[:,-1].values"
   ]
  },
  {
   "cell_type": "code",
   "execution_count": 16,
   "id": "f462fd7e",
   "metadata": {},
   "outputs": [],
   "source": [
    "from sklearn.model_selection import train_test_split\n",
    "x_train, x_test, y_train, y_test = train_test_split(x,y,test_size=0.3)"
   ]
  },
  {
   "cell_type": "code",
   "execution_count": 17,
   "id": "3cb0c85e",
   "metadata": {},
   "outputs": [],
   "source": [
    "def propogate(x_train,y_train):\n",
    "    w,b = 0,0\n",
    "    J = 0\n",
    "    for i in range(0,len(x_train)):\n",
    "        y_hat = w*x_train[i]+b\n",
    "        J += (y_hat - y_train[i])**2\n",
    "        dw = (y_hat - y)*x_train[i]\n",
    "        db = y_hat - y\n",
    "    J = J/2*len(x_train)\n",
    "    dw = dw / len(x_train)\n",
    "    db = db / len(x_train)\n",
    "    return dw,db,J"
   ]
  },
  {
   "cell_type": "code",
   "execution_count": 18,
   "id": "89676a30",
   "metadata": {},
   "outputs": [],
   "source": [
    "def optimize(x_train, y_train,num_iterations,learning_rate):\n",
    "    w,b = 0, 0\n",
    "    for i in range(num_iterations):\n",
    "        dw,db,J = propogate(x_train,y_train)\n",
    "        w = w - (learning_rate*dw)\n",
    "        b = b - (learning_rate*db)\n",
    "    return w,b"
   ]
  },
  {
   "cell_type": "code",
   "execution_count": 23,
   "id": "df5e13a8",
   "metadata": {},
   "outputs": [],
   "source": [
    "import math\n",
    "def predict(x_train, y_train,num_iterations,learning_rate):\n",
    "    y_pred = []\n",
    "    w,b = optimize(x_train, y_train,num_iterations,learning_rate)\n",
    "    for i in range(len(x_train)):\n",
    "        y_p = w*x_train[i] + b\n",
    "        y_pred.append(math.trunc(y_p[0]))\n",
    "    return y_pred"
   ]
  },
  {
   "cell_type": "code",
   "execution_count": null,
   "id": "91e09e11",
   "metadata": {},
   "outputs": [],
   "source": [
    "y_pred = predict(x_train, y_train,10000,0.00099)\n",
    "print(y_pred)"
   ]
  },
  {
   "cell_type": "code",
   "execution_count": 53,
   "id": "9b3241ec",
   "metadata": {},
   "outputs": [
    {
     "data": {
      "text/plain": [
       "-4.862571332295372"
      ]
     },
     "execution_count": 53,
     "metadata": {},
     "output_type": "execute_result"
    }
   ],
   "source": [
    "from sklearn.metrics import r2_score\n",
    "r2_score(y_train, y_pred)"
   ]
  }
 ],
 "metadata": {
  "kernelspec": {
   "display_name": "Python 3 (ipykernel)",
   "language": "python",
   "name": "python3"
  },
  "language_info": {
   "codemirror_mode": {
    "name": "ipython",
    "version": 3
   },
   "file_extension": ".py",
   "mimetype": "text/x-python",
   "name": "python",
   "nbconvert_exporter": "python",
   "pygments_lexer": "ipython3",
   "version": "3.9.16"
  }
 },
 "nbformat": 4,
 "nbformat_minor": 5
}
